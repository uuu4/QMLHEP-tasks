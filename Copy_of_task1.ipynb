{
  "nbformat": 4,
  "nbformat_minor": 0,
  "metadata": {
    "colab": {
      "provenance": []
    },
    "kernelspec": {
      "name": "python3",
      "display_name": "Python 3"
    },
    "language_info": {
      "name": "python"
    }
  },
  "cells": [
    {
      "cell_type": "code",
      "source": [
        "#task 1\n",
        "!pip install pennylane\n",
        "!pip install --upgrade dask cirq\n",
        "!pip install cirq tensorflow tensorflow-quantum\n",
        "\n",
        "import pennylane as qml\n",
        "from pennylane import numpy as np"
      ],
      "metadata": {
        "id": "LxCLyBoNIXDC"
      },
      "execution_count": null,
      "outputs": []
    },
    {
      "cell_type": "code",
      "execution_count": null,
      "metadata": {
        "colab": {
          "base_uri": "https://localhost:8080/"
        },
        "id": "wio8pN4ZIKHo",
        "outputId": "fe19cbd7-f217-4eec-ee26-ab733ac8c432"
      },
      "outputs": [
        {
          "output_type": "stream",
          "name": "stdout",
          "text": [
            "0: ──H─╭●──────────╭SWAP──RX(1.57)─┤  State\n",
            "1: ──H─╰X─╭●───────│───────────────┤  State\n",
            "2: ──H────╰X─╭●────│───────────────┤  State\n",
            "3: ──H───────╰X─╭●─│───────────────┤  State\n",
            "4: ──H──────────╰X─╰SWAP───────────┤  State\n"
          ]
        }
      ],
      "source": [
        "n_qubits = 5\n",
        "dev = qml.device(\"default.qubit\", wires=n_qubits)\n",
        "\n",
        "@qml.qnode(dev)\n",
        "def circuit():\n",
        "    # b) apply Hadamard on every qubit\n",
        "    for i in range(n_qubits):\n",
        "        qml.Hadamard(wires=i)\n",
        "\n",
        "    # c) apply CNOT on (0,1), (1,2), (2,3), (3,4)\n",
        "    qml.CNOT(wires=[0, 1])\n",
        "    qml.CNOT(wires=[1, 2])\n",
        "    qml.CNOT(wires=[2, 3])\n",
        "    qml.CNOT(wires=[3, 4])\n",
        "\n",
        "    # d) SWAP(0,4)\n",
        "    qml.SWAP(wires=[0, 4])\n",
        "\n",
        "    # e) apply RX by pi/2 on qubit 0\n",
        "    qml.RX(np.pi / 2, wires=0)\n",
        "\n",
        "# f) plot (draw) the circuit\n",
        "    return qml.state()\n",
        "print(qml.draw(circuit)())\n"
      ]
    },
    {
      "cell_type": "code",
      "source": [],
      "metadata": {
        "id": "34IcZfzKI8mM"
      },
      "execution_count": null,
      "outputs": []
    }
  ]
}