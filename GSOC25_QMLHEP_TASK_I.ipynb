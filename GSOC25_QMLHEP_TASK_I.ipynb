{
  "nbformat": 4,
  "nbformat_minor": 0,
  "metadata": {
    "colab": {
      "provenance": []
    },
    "kernelspec": {
      "name": "python3",
      "display_name": "Python 3"
    },
    "language_info": {
      "name": "python"
    }
  },
  "cells": [
    {
      "cell_type": "markdown",
      "source": [
        "# Task 1\n",
        "\n",
        "Directives are pretty straightforward in this one :)\n",
        "\n",
        "1 ) Implement a simple quantum operation with Cirq or Pennylane\n",
        "- with 5 qubits\n",
        "- Apply Hadamard operation on every qubit\n",
        "- Apply CNOT operation on (0,1),(1,2),(2,3),(3,4)\n",
        "- SWAP (0,4)\n",
        "- Rotate X with pi/2 on any qubit (i choose 1st qubit)\n",
        "- Plot the circuit"
      ],
      "metadata": {
        "id": "9e0bw3pS2eMe"
      }
    },
    {
      "cell_type": "code",
      "source": [
        "!pip install pennylane pennylane-cirq"
      ],
      "metadata": {
        "id": "BJUesuNI3PaI"
      },
      "execution_count": null,
      "outputs": []
    },
    {
      "cell_type": "code",
      "execution_count": 3,
      "metadata": {
        "colab": {
          "base_uri": "https://localhost:8080/"
        },
        "id": "wio8pN4ZIKHo",
        "outputId": "51f510d0-b9c0-499f-b408-87ae8d215ecc"
      },
      "outputs": [
        {
          "output_type": "stream",
          "name": "stdout",
          "text": [
            "0: ──H─╭●──────────╭SWAP──RX(1.57)─┤  State\n",
            "1: ──H─╰X─╭●───────│───────────────┤  State\n",
            "2: ──H────╰X─╭●────│───────────────┤  State\n",
            "3: ──H───────╰X─╭●─│───────────────┤  State\n",
            "4: ──H──────────╰X─╰SWAP───────────┤  State\n"
          ]
        }
      ],
      "source": [
        "import numpy as np\n",
        "import pennylane as qml\n",
        "\n",
        "# a) with 5 qubits\n",
        "n_qubits = 5\n",
        "dev = qml.device(\"default.qubit\", wires=n_qubits)\n",
        "\n",
        "@qml.qnode(dev)\n",
        "def circuit():\n",
        "    # b) apply Hadamard on every qubit\n",
        "    for i in range(n_qubits):\n",
        "        qml.Hadamard(wires=i)\n",
        "\n",
        "    # c) apply CNOT on (0,1), (1,2), (2,3), (3,4)\n",
        "    qml.CNOT(wires=[0, 1])\n",
        "    qml.CNOT(wires=[1, 2])\n",
        "    qml.CNOT(wires=[2, 3])\n",
        "    qml.CNOT(wires=[3, 4])\n",
        "\n",
        "    # d) SWAP(0,4)\n",
        "    qml.SWAP(wires=[0, 4])\n",
        "\n",
        "    # e) apply RX by pi/2 on qubit 0\n",
        "    qml.RX(np.pi / 2, wires=0)\n",
        "\n",
        "# f) plot (draw) the circuit\n",
        "    return qml.state()\n",
        "print(qml.draw(circuit)())\n"
      ]
    },
    {
      "cell_type": "markdown",
      "source": [
        "2 ) Implement a second circuit with a framework of your choice (i choose pennylange again :) )\n",
        "- Apply a Hadamard gate to the first qubit\n",
        "- Rotate the secon qubit by pi/3 around X axis\n",
        "- Apply Hadamard gate to the third and fourth qubit\n",
        "- Perform a swap test between the states of the first and second qubit |q1 q2>\n",
        "- and the third and fourth qubit |q3 q4>"
      ],
      "metadata": {
        "id": "DizQie143mOt"
      }
    },
    {
      "cell_type": "code",
      "source": [
        "n_qubits = 4\n",
        "dev = qml.device(\"default.qubit\", wires=n_qubits)\n",
        "\n",
        "@qml.qnode(dev)\n",
        "def circuit():\n",
        "    qml.Hadamard(wires=0) # a) Apply a hadamard gate to the first qubit\n",
        "    qml.RX(np.pi / 3, wires=1) # b) Rotate the second qubit by pi/3 around X axis\n",
        "\n",
        "    qml.Hadamard(wires=2) # c) Apply a Hadamard gate to the third and fourth qubit\n",
        "    qml.Hadamard(wires=3)\n",
        "\n",
        "    qml.SWAP(wires=[0, 1]) # d) Perform a swap test between the states of the first and second qubit |q1 q2>\n",
        "    qml.SWAP(wires=[2, 3]) # and the third and fourth qubit |q3 q4>\n",
        "\n",
        "    return qml.probs(wires=[0, 1, 2, 3])\n",
        "\n",
        "print(qml.draw(circuit)())"
      ],
      "metadata": {
        "colab": {
          "base_uri": "https://localhost:8080/"
        },
        "id": "araXGcbK4Krp",
        "outputId": "5c5aae00-0d0e-4052-93c0-d8e2a451a5ac"
      },
      "execution_count": 4,
      "outputs": [
        {
          "output_type": "stream",
          "name": "stdout",
          "text": [
            "0: ──H────────╭SWAP─┤ ╭Probs\n",
            "1: ──RX(1.05)─╰SWAP─┤ ├Probs\n",
            "2: ──H────────╭SWAP─┤ ├Probs\n",
            "3: ──H────────╰SWAP─┤ ╰Probs\n"
          ]
        }
      ]
    }
  ]
}