{
  "nbformat": 4,
  "nbformat_minor": 0,
  "metadata": {
    "colab": {
      "provenance": []
    },
    "kernelspec": {
      "name": "python3",
      "display_name": "Python 3"
    },
    "language_info": {
      "name": "python"
    }
  },
  "cells": [
    {
      "cell_type": "markdown",
      "source": [
        "# Task III: Open Task\n",
        "Please comment on quantum computing or quantum machine learning. You can also comment on one quantum algorithm or one quantum software you are familiar with. You can also suggest methods you think are good and you would like to work on.\n"
      ],
      "metadata": {
        "id": "_ShTCPfCCK95"
      }
    },
    {
      "cell_type": "markdown",
      "source": [
        "In this task, we'll be looking at:\n",
        "\n",
        "- An Introduction to Quantum Computing and where it is going?\n",
        "- Grover's Algorithm\n",
        "- Qiskit and my \"qiskit-like\" project\n",
        "- Conclusion"
      ],
      "metadata": {
        "id": "mFq_L8AJCW9h"
      }
    },
    {
      "cell_type": "markdown",
      "source": [
        "# Quantum Computing : Where it is going?"
      ],
      "metadata": {
        "id": "w7RnLcgwC6x6"
      }
    },
    {
      "cell_type": "markdown",
      "source": [
        "Quantum computers, instead of relying classical bits that can only exist in states 0 or 1, quantum computers leverage qubits which can exist simultaneously in multiple states thanks to superposition .\n",
        "\n",
        "This superposition capability potentially allows quantum computers to solve much more complex problems such as factoring large integers (crucial for cryptography), efficiently simulating molecular interactions.\n",
        "\n",
        "Today, some of the major tech companies are making notable progress like:\n",
        "- Microsoft's Majorana 1 powered by a newly discovered state of matter known as a topoconductor.\n",
        "- Amazon introduced its first quantum computing chip 'Ocelot', designed to enhance fault-tolerant quantum computing.\n",
        "- Google's Willow addressing critical issues of error correction and computational capability.\n",
        "\n",
        "To wrap up, quantum computing is advancig through significant technological leaps. In my opinion, there is less than a decade for this \"quantum\" hype."
      ],
      "metadata": {
        "id": "5IUU2uO2DANy"
      }
    },
    {
      "cell_type": "markdown",
      "source": [
        "# Grover's Algorithm\n",
        "\n",
        "My one of the favourite algorithm that fascinates me is Grover's searh algorithm.\n",
        "This algorithm demonstrates a **quadratic** speedup over classical search algorithms when searching unsorted databases. The classical approach has a complexity of O(N) (as usual :), but this is where quantum makes its magic right?), whereas Grover's quantum algortihm reduces it to O(√N). Although Grover's algorithm does not achieve exponential speedup (besides Shor's algorithm), i think it is broadly applicable and practical that benefit quantum computing can offer."
      ],
      "metadata": {
        "id": "7GATsMR4Fh1R"
      }
    },
    {
      "cell_type": "markdown",
      "source": [
        "# Qiskit and my \"qiskit-like\" attempt"
      ],
      "metadata": {
        "id": "sBVjr5JDG4Ix"
      }
    },
    {
      "cell_type": "markdown",
      "source": [
        "In software, frameworks such as IBM's Qiskit have made quantum computing increasingly accessible. Qiskit is user-friendly and provides powerful tools for developing, simulating, and running quantum algorithms. Personally, I appreciate its intuitive structure; however, it comes with many dependencies because it is written in Python. This led me to attempt building an entirely dependency-free (except for GTK, of course) quantum circuits engine or SDK. I couldn’t even decide what to call it, as I was inspired by 3B1B's Manim project.\n",
        "\n",
        "Anyway, I consulted a teacher from my school ([Ammar Daskin](https://sites.google.com/view/adaskin)), and he told me that I don't really need to build an entire project from scratch—and not even in C! So, I decided to put this project on hold for now, though I remain hopeful that one day I will return to it. He advised me that I could implement a GUI in Qiskit to make it more user-friendly and integrate some quantum machine learning algorithms. Currently, I am working on this project."
      ],
      "metadata": {
        "id": "ka7S7bDXHLaF"
      }
    },
    {
      "cell_type": "markdown",
      "source": [
        "## Conclusion\n",
        "\n",
        "Quantum computing is set to transform the way we solve complex problems by using qubits that can be in multiple states at once. With innovations like Grover's algorithm providing a real speedup over classical methods, and major players such as Microsoft, Amazon, and Google pushing the technology forward, the future looks bright. Even though tools like Qiskit have made it more accessible, there's still room to simplify and improve these systems. In short, the quantum revolution is underway, and its impact could be just around the corner."
      ],
      "metadata": {
        "id": "okETdWj3Jsu0"
      }
    },
    {
      "cell_type": "code",
      "source": [],
      "metadata": {
        "id": "ZplcWewxJRab"
      },
      "execution_count": null,
      "outputs": []
    }
  ]
}
